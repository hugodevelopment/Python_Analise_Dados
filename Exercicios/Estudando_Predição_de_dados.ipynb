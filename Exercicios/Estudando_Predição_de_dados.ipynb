{
  "cells": [
    {
      "cell_type": "markdown",
      "metadata": {
        "id": "vlbrDMUmheB1"
      },
      "source": [
        "**Exemplo 1**"
      ]
    },
    {
      "cell_type": "code",
      "execution_count": null,
      "metadata": {
        "colab": {
          "base_uri": "https://localhost:8080/"
        },
        "id": "W_es4vsWr0r0",
        "outputId": "8e7bdde2-10ae-4edd-be0e-ddd0a4dc8e8c"
      },
      "outputs": [
        {
          "name": "stdout",
          "output_type": "stream",
          "text": [
            "vamos ver com o reshape [[10000]\n",
            " [11000]\n",
            " [12000]\n",
            " [13000]\n",
            " [14000]\n",
            " [15000]\n",
            " [16000]\n",
            " [17000]]\n",
            "Preços previstos do Bitcoin para os próximos dias: [[21000.]\n",
            " [30000.]]\n"
          ]
        }
      ],
      "source": [
        "import numpy as np\n",
        "from sklearn.linear_model import LinearRegression\n",
        "\n",
        "# Dados fictícios de preço do Bitcoin\n",
        "historical_prices = np.array([10000, 11000, 12000, 13000, 14000, 15000, 16000, 17000])\n",
        "\n",
        "# Redimensionar os dados para o formato esperado pelo scikit-learn\n",
        "historical_prices = historical_prices.reshape(-1, 1)\n",
        "print(\"vamos ver com o reshape\", historical_prices)\n",
        "\n",
        "# Preços para a previsão (baseado nos preços históricos)\n",
        "prediction_prices = np.array([[20000], [29000]])  # Preços para os próximos dias\n",
        "\n",
        "# Criar um modelo de regressão linear\n",
        "model = LinearRegression()\n",
        "\n",
        "# Treinar o modelo com os dados históricos\n",
        "model.fit(historical_prices[:-1], historical_prices[1:])\n",
        "\n",
        "# Fazer a previsão para os próximos dias\n",
        "predicted_prices = model.predict(prediction_prices)\n",
        "\n",
        "print(\"Preços previstos do Bitcoin para os próximos dias:\", predicted_prices)\n"
      ]
    },
    {
      "cell_type": "markdown",
      "metadata": {
        "id": "-Zup3trhhnS5"
      },
      "source": [
        "**Exemplo 2**"
      ]
    },
    {
      "cell_type": "code",
      "execution_count": null,
      "metadata": {
        "colab": {
          "base_uri": "https://localhost:8080/"
        },
        "id": "xNw3ph17xiSS",
        "outputId": "de7088a2-4bc9-4c08-d17f-668518c72b56"
      },
      "outputs": [
        {
          "name": "stdout",
          "output_type": "stream",
          "text": [
            "            prices  moving_average\n",
            "date                              \n",
            "2023-07-01     100             NaN\n",
            "2023-07-02     105             NaN\n",
            "2023-07-03     110      105.000000\n",
            "2023-07-04     108      107.666667\n",
            "2023-07-05     115      111.000000\n"
          ]
        }
      ],
      "source": [
        "import pandas as pd\n",
        "\n",
        "# Criar um DataFrame de exemplo\n",
        "data = {'date': ['2023-07-01', '2023-07-02', '2023-07-03', '2023-07-04', '2023-07-05'],\n",
        "        'prices': [100, 105, 110, 108, 115]}\n",
        "df = pd.DataFrame(data)\n",
        "\n",
        "# Converter a coluna de datas para o tipo datetime\n",
        "df['date'] = pd.to_datetime(df['date'])\n",
        "\n",
        "# Ordenar o DataFrame pela coluna de datas\n",
        "df = df.sort_values('date')\n",
        "\n",
        "# Definir a coluna de datas como o índice do DataFrame\n",
        "df = df.set_index('date')\n",
        "\n",
        "# Calcular a média móvel com uma janela de tamanho 3\n",
        "df['moving_average'] = df['prices'].rolling(window=3).mean()\n",
        "\n",
        "print(df)\n"
      ]
    },
    {
      "cell_type": "code",
      "execution_count": null,
      "metadata": {
        "colab": {
          "base_uri": "https://localhost:8080/"
        },
        "id": "iWnYM3rRyAnh",
        "outputId": "3d6f749f-2fa5-4607-ec42-802c3525d798"
      },
      "outputs": [
        {
          "name": "stdout",
          "output_type": "stream",
          "text": [
            "1    102.5\n",
            "2    107.5\n",
            "3    112.5\n",
            "4    117.5\n",
            "Name: Moving_Average, dtype: float64\n",
            "Preço previsto para o próximo dia: [120.]\n"
          ]
        }
      ],
      "source": [
        "import numpy as np\n",
        "import pandas as pd\n",
        "from sklearn.linear_model import LinearRegression\n",
        "\n",
        "# Criar um DataFrame com os dados históricos de preços\n",
        "data = {\n",
        "    'Date': ['2022-01-01', '2022-01-02', '2022-01-03', '2022-01-04', '2022-01-05'],\n",
        "    'Prices': [100, 105, 110, 115, 120]\n",
        "}\n",
        "df = pd.DataFrame(data)\n",
        "df['Date'] = pd.to_datetime(df['Date'])\n",
        "\n",
        "# Calcular a média móvel\n",
        "window_size = 2\n",
        "df['Moving_Average'] = df['Prices'].rolling(window=window_size).mean()\n",
        "df_2 = df.loc[df[\"Moving_Average\"] > 102]\n",
        "print(df_2[\"Moving_Average\"])\n",
        "\n",
        "# Preparar os dados para treinamento\n",
        "X = df_2['Moving_Average'].values.reshape(-1, 1)\n",
        "y = df['Prices'].shift(-1).dropna()  # Valores futuros para predição\n",
        "\n",
        "# Criar e treinar o modelo de regressão linear\n",
        "model = LinearRegression()\n",
        "model.fit(X,y)\n",
        "\n",
        "# Fazer predições para o próximo dia\n",
        "next_day_ma = df_2['Moving_Average'].iloc[-1:].values.reshape(-1, 1)\n",
        "predicted_price = model.predict(next_day_ma)\n",
        "\n",
        "print(\"Preço previsto para o próximo dia:\", predicted_price)\n"
      ]
    }
  ],
  "metadata": {
    "colab": {
      "provenance": [],
      "toc_visible": true
    },
    "kernelspec": {
      "display_name": "Python 3",
      "name": "python3"
    }
  },
  "nbformat": 4,
  "nbformat_minor": 0
}
