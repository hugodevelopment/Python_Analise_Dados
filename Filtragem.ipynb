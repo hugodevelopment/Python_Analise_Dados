{
 "cells": [
  {
   "cell_type": "code",
   "execution_count": 3,
   "metadata": {},
   "outputs": [
    {
     "data": {
      "text/html": [
       "<div>\n",
       "<style scoped>\n",
       "    .dataframe tbody tr th:only-of-type {\n",
       "        vertical-align: middle;\n",
       "    }\n",
       "\n",
       "    .dataframe tbody tr th {\n",
       "        vertical-align: top;\n",
       "    }\n",
       "\n",
       "    .dataframe thead th {\n",
       "        text-align: right;\n",
       "    }\n",
       "</style>\n",
       "<table border=\"1\" class=\"dataframe\">\n",
       "  <thead>\n",
       "    <tr style=\"text-align: right;\">\n",
       "      <th></th>\n",
       "      <th>Nome</th>\n",
       "      <th>Idade</th>\n",
       "      <th>Cargo</th>\n",
       "      <th>Salário</th>\n",
       "      <th>Departamento</th>\n",
       "    </tr>\n",
       "  </thead>\n",
       "  <tbody>\n",
       "    <tr>\n",
       "      <th>0</th>\n",
       "      <td>João</td>\n",
       "      <td>25</td>\n",
       "      <td>Analista</td>\n",
       "      <td>3500</td>\n",
       "      <td>RH</td>\n",
       "    </tr>\n",
       "    <tr>\n",
       "      <th>1</th>\n",
       "      <td>Maria</td>\n",
       "      <td>30</td>\n",
       "      <td>Gerente</td>\n",
       "      <td>5000</td>\n",
       "      <td>Vendas</td>\n",
       "    </tr>\n",
       "    <tr>\n",
       "      <th>2</th>\n",
       "      <td>Pedro</td>\n",
       "      <td>22</td>\n",
       "      <td>Analista</td>\n",
       "      <td>3200</td>\n",
       "      <td>RH</td>\n",
       "    </tr>\n",
       "    <tr>\n",
       "      <th>3</th>\n",
       "      <td>Ana</td>\n",
       "      <td>28</td>\n",
       "      <td>Coordenador</td>\n",
       "      <td>4800</td>\n",
       "      <td>TI</td>\n",
       "    </tr>\n",
       "    <tr>\n",
       "      <th>4</th>\n",
       "      <td>Luiz</td>\n",
       "      <td>35</td>\n",
       "      <td>Gerente</td>\n",
       "      <td>5500</td>\n",
       "      <td>Vendas</td>\n",
       "    </tr>\n",
       "  </tbody>\n",
       "</table>\n",
       "</div>"
      ],
      "text/plain": [
       "    Nome  Idade        Cargo  Salário Departamento\n",
       "0   João     25     Analista     3500           RH\n",
       "1  Maria     30      Gerente     5000       Vendas\n",
       "2  Pedro     22     Analista     3200           RH\n",
       "3    Ana     28  Coordenador     4800           TI\n",
       "4   Luiz     35      Gerente     5500       Vendas"
      ]
     },
     "execution_count": 3,
     "metadata": {},
     "output_type": "execute_result"
    }
   ],
   "source": [
    "import pandas as pd\n",
    "\n",
    "data = {\n",
    "    'Nome': ['João', 'Maria', 'Pedro', 'Ana', 'Luiz'],\n",
    "    'Idade': [25, 30, 22, 28, 35],\n",
    "    'Cargo': ['Analista', 'Gerente', 'Analista', 'Coordenador', 'Gerente'],\n",
    "    'Salário': [3500, 5000, 3200, 4800, 5500],\n",
    "    'Departamento': ['RH', 'Vendas', 'RH', 'TI', 'Vendas']\n",
    "}\n",
    "\n",
    "df = pd.DataFrame(data)\n",
    "df\n"
   ]
  },
  {
   "cell_type": "markdown",
   "metadata": {},
   "source": [
    "Questão 1: Quais são os nomes e cargos dos funcionários que têm salário maior ou igual a 5000?"
   ]
  },
  {
   "cell_type": "code",
   "execution_count": 9,
   "metadata": {},
   "outputs": [
    {
     "data": {
      "text/html": [
       "<div>\n",
       "<style scoped>\n",
       "    .dataframe tbody tr th:only-of-type {\n",
       "        vertical-align: middle;\n",
       "    }\n",
       "\n",
       "    .dataframe tbody tr th {\n",
       "        vertical-align: top;\n",
       "    }\n",
       "\n",
       "    .dataframe thead th {\n",
       "        text-align: right;\n",
       "    }\n",
       "</style>\n",
       "<table border=\"1\" class=\"dataframe\">\n",
       "  <thead>\n",
       "    <tr style=\"text-align: right;\">\n",
       "      <th></th>\n",
       "      <th>Nome</th>\n",
       "      <th>Idade</th>\n",
       "      <th>Cargo</th>\n",
       "      <th>Salário</th>\n",
       "      <th>Departamento</th>\n",
       "    </tr>\n",
       "  </thead>\n",
       "  <tbody>\n",
       "    <tr>\n",
       "      <th>1</th>\n",
       "      <td>Maria</td>\n",
       "      <td>30</td>\n",
       "      <td>Gerente</td>\n",
       "      <td>5000</td>\n",
       "      <td>Vendas</td>\n",
       "    </tr>\n",
       "    <tr>\n",
       "      <th>4</th>\n",
       "      <td>Luiz</td>\n",
       "      <td>35</td>\n",
       "      <td>Gerente</td>\n",
       "      <td>5500</td>\n",
       "      <td>Vendas</td>\n",
       "    </tr>\n",
       "  </tbody>\n",
       "</table>\n",
       "</div>"
      ],
      "text/plain": [
       "    Nome  Idade    Cargo  Salário Departamento\n",
       "1  Maria     30  Gerente     5000       Vendas\n",
       "4   Luiz     35  Gerente     5500       Vendas"
      ]
     },
     "execution_count": 9,
     "metadata": {},
     "output_type": "execute_result"
    }
   ],
   "source": [
    "maior_5000_loc = df.loc[df[\"Salário\"] >= 5000]\n",
    "maior_5000_loc\n",
    "\n",
    "maior_5000 = df[df[\"Salário\"] >= 5000]\n",
    "maior_5000"
   ]
  },
  {
   "cell_type": "markdown",
   "metadata": {},
   "source": [
    "Questão 2: **Quantos** funcionários com idade entre 25 e 30 anos trabalham no departamento de RH?"
   ]
  },
  {
   "cell_type": "code",
   "execution_count": 36,
   "metadata": {},
   "outputs": [
    {
     "data": {
      "text/plain": [
       "2"
      ]
     },
     "execution_count": 36,
     "metadata": {},
     "output_type": "execute_result"
    }
   ],
   "source": [
    "\n",
    "Funcionarios_RH = df.loc[(df[\"Idade\"]>=25) & (df[\"Idade\"]<=30) & (df[\"Departamento\"]==\"RH\")]\n",
    "Funcionarios_RH\n",
    "\n",
    "Funcionarios_RH = df.loc[(df[\"Departamento\"] == \"RH\")]\n",
    "Funcionarios_RH[\"Nome\"].count()"
   ]
  }
 ],
 "metadata": {
  "kernelspec": {
   "display_name": "Python 3",
   "language": "python",
   "name": "python3"
  },
  "language_info": {
   "codemirror_mode": {
    "name": "ipython",
    "version": 3
   },
   "file_extension": ".py",
   "mimetype": "text/x-python",
   "name": "python",
   "nbconvert_exporter": "python",
   "pygments_lexer": "ipython3",
   "version": "3.9.5"
  },
  "orig_nbformat": 4
 },
 "nbformat": 4,
 "nbformat_minor": 2
}
