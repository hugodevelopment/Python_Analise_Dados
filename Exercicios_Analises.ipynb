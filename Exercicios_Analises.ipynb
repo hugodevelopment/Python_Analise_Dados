{
 "cells": [
  {
   "cell_type": "code",
   "execution_count": 3,
   "metadata": {},
   "outputs": [
    {
     "data": {
      "text/html": [
       "<div>\n",
       "<style scoped>\n",
       "    .dataframe tbody tr th:only-of-type {\n",
       "        vertical-align: middle;\n",
       "    }\n",
       "\n",
       "    .dataframe tbody tr th {\n",
       "        vertical-align: top;\n",
       "    }\n",
       "\n",
       "    .dataframe thead th {\n",
       "        text-align: right;\n",
       "    }\n",
       "</style>\n",
       "<table border=\"1\" class=\"dataframe\">\n",
       "  <thead>\n",
       "    <tr style=\"text-align: right;\">\n",
       "      <th></th>\n",
       "      <th>Nome</th>\n",
       "      <th>Idade</th>\n",
       "      <th>Cargo</th>\n",
       "      <th>Salário</th>\n",
       "      <th>Departamento</th>\n",
       "    </tr>\n",
       "  </thead>\n",
       "  <tbody>\n",
       "    <tr>\n",
       "      <th>0</th>\n",
       "      <td>João</td>\n",
       "      <td>25</td>\n",
       "      <td>Analista</td>\n",
       "      <td>3500</td>\n",
       "      <td>RH</td>\n",
       "    </tr>\n",
       "    <tr>\n",
       "      <th>1</th>\n",
       "      <td>Maria</td>\n",
       "      <td>30</td>\n",
       "      <td>Gerente</td>\n",
       "      <td>5000</td>\n",
       "      <td>Vendas</td>\n",
       "    </tr>\n",
       "    <tr>\n",
       "      <th>2</th>\n",
       "      <td>Pedro</td>\n",
       "      <td>22</td>\n",
       "      <td>Analista</td>\n",
       "      <td>3200</td>\n",
       "      <td>RH</td>\n",
       "    </tr>\n",
       "    <tr>\n",
       "      <th>3</th>\n",
       "      <td>Ana</td>\n",
       "      <td>28</td>\n",
       "      <td>Coordenador</td>\n",
       "      <td>4800</td>\n",
       "      <td>TI</td>\n",
       "    </tr>\n",
       "    <tr>\n",
       "      <th>4</th>\n",
       "      <td>Luiz</td>\n",
       "      <td>35</td>\n",
       "      <td>Gerente</td>\n",
       "      <td>5500</td>\n",
       "      <td>Vendas</td>\n",
       "    </tr>\n",
       "  </tbody>\n",
       "</table>\n",
       "</div>"
      ],
      "text/plain": [
       "    Nome  Idade        Cargo  Salário Departamento\n",
       "0   João     25     Analista     3500           RH\n",
       "1  Maria     30      Gerente     5000       Vendas\n",
       "2  Pedro     22     Analista     3200           RH\n",
       "3    Ana     28  Coordenador     4800           TI\n",
       "4   Luiz     35      Gerente     5500       Vendas"
      ]
     },
     "execution_count": 3,
     "metadata": {},
     "output_type": "execute_result"
    }
   ],
   "source": [
    "import pandas as pd\n",
    "\n",
    "data = {\n",
    "    'Nome': ['João', 'Maria', 'Pedro', 'Ana', 'Luiz'],\n",
    "    'Idade': [25, 30, 22, 28, 35],\n",
    "    'Cargo': ['Analista', 'Gerente', 'Analista', 'Coordenador', 'Gerente'],\n",
    "    'Salário': [3500, 5000, 3200, 4800, 5500],\n",
    "    'Departamento': ['RH', 'Vendas', 'RH', 'TI', 'Vendas']\n",
    "}\n",
    "\n",
    "df = pd.DataFrame(data)\n",
    "df\n"
   ]
  },
  {
   "cell_type": "markdown",
   "metadata": {},
   "source": [
    "Questão 1: Quais são os nomes e cargos dos funcionários que têm salário maior ou igual a 5000?"
   ]
  },
  {
   "cell_type": "code",
   "execution_count": 9,
   "metadata": {},
   "outputs": [
    {
     "data": {
      "text/html": [
       "<div>\n",
       "<style scoped>\n",
       "    .dataframe tbody tr th:only-of-type {\n",
       "        vertical-align: middle;\n",
       "    }\n",
       "\n",
       "    .dataframe tbody tr th {\n",
       "        vertical-align: top;\n",
       "    }\n",
       "\n",
       "    .dataframe thead th {\n",
       "        text-align: right;\n",
       "    }\n",
       "</style>\n",
       "<table border=\"1\" class=\"dataframe\">\n",
       "  <thead>\n",
       "    <tr style=\"text-align: right;\">\n",
       "      <th></th>\n",
       "      <th>Nome</th>\n",
       "      <th>Idade</th>\n",
       "      <th>Cargo</th>\n",
       "      <th>Salário</th>\n",
       "      <th>Departamento</th>\n",
       "    </tr>\n",
       "  </thead>\n",
       "  <tbody>\n",
       "    <tr>\n",
       "      <th>1</th>\n",
       "      <td>Maria</td>\n",
       "      <td>30</td>\n",
       "      <td>Gerente</td>\n",
       "      <td>5000</td>\n",
       "      <td>Vendas</td>\n",
       "    </tr>\n",
       "    <tr>\n",
       "      <th>4</th>\n",
       "      <td>Luiz</td>\n",
       "      <td>35</td>\n",
       "      <td>Gerente</td>\n",
       "      <td>5500</td>\n",
       "      <td>Vendas</td>\n",
       "    </tr>\n",
       "  </tbody>\n",
       "</table>\n",
       "</div>"
      ],
      "text/plain": [
       "    Nome  Idade    Cargo  Salário Departamento\n",
       "1  Maria     30  Gerente     5000       Vendas\n",
       "4   Luiz     35  Gerente     5500       Vendas"
      ]
     },
     "execution_count": 9,
     "metadata": {},
     "output_type": "execute_result"
    }
   ],
   "source": [
    "maior_5000_loc = df.loc[df[\"Salário\"] >= 5000]\n",
    "maior_5000_loc\n",
    "\n",
    "maior_5000 = df[df[\"Salário\"] >= 5000]\n",
    "maior_5000"
   ]
  },
  {
   "cell_type": "markdown",
   "metadata": {},
   "source": [
    "Questão 2: **Quantos** funcionários com idade entre 25 e 30 anos trabalham no departamento de RH?"
   ]
  },
  {
   "cell_type": "code",
   "execution_count": 36,
   "metadata": {},
   "outputs": [
    {
     "data": {
      "text/plain": [
       "2"
      ]
     },
     "execution_count": 36,
     "metadata": {},
     "output_type": "execute_result"
    }
   ],
   "source": [
    "\n",
    "Funcionarios_RH = df.loc[(df[\"Idade\"]>=25) & (df[\"Idade\"]<=30) & (df[\"Departamento\"]==\"RH\")]\n",
    "Funcionarios_RH\n",
    "\n",
    "Funcionarios_RH = df.loc[(df[\"Departamento\"] == \"RH\")]\n",
    "Funcionarios_RH[\"Nome\"].count()"
   ]
  },
  {
   "cell_type": "markdown",
   "metadata": {},
   "source": [
    "Questão 3: Qual é o **salário médio** dos gerentes no departamento de Vendas?"
   ]
  },
  {
   "cell_type": "code",
   "execution_count": 40,
   "metadata": {},
   "outputs": [
    {
     "data": {
      "text/plain": [
       "5250.0"
      ]
     },
     "execution_count": 40,
     "metadata": {},
     "output_type": "execute_result"
    }
   ],
   "source": [
    "Salario_Medio = df.loc[(df[\"Departamento\"] == \"Vendas\")]\n",
    "Salario_Medio[\"Salário\"].mean()"
   ]
  },
  {
   "cell_type": "markdown",
   "metadata": {},
   "source": [
    "**<h2> Exercicios de análise de dados </h2>**"
   ]
  },
  {
   "cell_type": "code",
   "execution_count": 1,
   "metadata": {},
   "outputs": [
    {
     "data": {
      "text/html": [
       "<div>\n",
       "<style scoped>\n",
       "    .dataframe tbody tr th:only-of-type {\n",
       "        vertical-align: middle;\n",
       "    }\n",
       "\n",
       "    .dataframe tbody tr th {\n",
       "        vertical-align: top;\n",
       "    }\n",
       "\n",
       "    .dataframe thead th {\n",
       "        text-align: right;\n",
       "    }\n",
       "</style>\n",
       "<table border=\"1\" class=\"dataframe\">\n",
       "  <thead>\n",
       "    <tr style=\"text-align: right;\">\n",
       "      <th></th>\n",
       "      <th>Data</th>\n",
       "      <th>Loja</th>\n",
       "      <th>Produto</th>\n",
       "      <th>Vendas</th>\n",
       "      <th>Desconto</th>\n",
       "    </tr>\n",
       "  </thead>\n",
       "  <tbody>\n",
       "    <tr>\n",
       "      <th>0</th>\n",
       "      <td>2023-01-01</td>\n",
       "      <td>Nova-America</td>\n",
       "      <td>Z</td>\n",
       "      <td>74</td>\n",
       "      <td>0.189964</td>\n",
       "    </tr>\n",
       "    <tr>\n",
       "      <th>1</th>\n",
       "      <td>2023-01-02</td>\n",
       "      <td>Nova-America</td>\n",
       "      <td>X</td>\n",
       "      <td>87</td>\n",
       "      <td>0.259027</td>\n",
       "    </tr>\n",
       "    <tr>\n",
       "      <th>2</th>\n",
       "      <td>2023-01-03</td>\n",
       "      <td>Barra-Shopping</td>\n",
       "      <td>X</td>\n",
       "      <td>62</td>\n",
       "      <td>0.279607</td>\n",
       "    </tr>\n",
       "    <tr>\n",
       "      <th>3</th>\n",
       "      <td>2023-01-04</td>\n",
       "      <td>Nova-America</td>\n",
       "      <td>Y</td>\n",
       "      <td>14</td>\n",
       "      <td>0.299841</td>\n",
       "    </tr>\n",
       "    <tr>\n",
       "      <th>4</th>\n",
       "      <td>2023-01-05</td>\n",
       "      <td>Norte-Shopping</td>\n",
       "      <td>X</td>\n",
       "      <td>10</td>\n",
       "      <td>0.163121</td>\n",
       "    </tr>\n",
       "    <tr>\n",
       "      <th>...</th>\n",
       "      <td>...</td>\n",
       "      <td>...</td>\n",
       "      <td>...</td>\n",
       "      <td>...</td>\n",
       "      <td>...</td>\n",
       "    </tr>\n",
       "    <tr>\n",
       "      <th>95</th>\n",
       "      <td>2023-04-06</td>\n",
       "      <td>Barra-Shopping</td>\n",
       "      <td>Z</td>\n",
       "      <td>86</td>\n",
       "      <td>0.000047</td>\n",
       "    </tr>\n",
       "    <tr>\n",
       "      <th>96</th>\n",
       "      <td>2023-04-07</td>\n",
       "      <td>Barra-Shopping</td>\n",
       "      <td>X</td>\n",
       "      <td>25</td>\n",
       "      <td>0.160528</td>\n",
       "    </tr>\n",
       "    <tr>\n",
       "      <th>97</th>\n",
       "      <td>2023-04-08</td>\n",
       "      <td>Nova-America</td>\n",
       "      <td>Y</td>\n",
       "      <td>89</td>\n",
       "      <td>0.048460</td>\n",
       "    </tr>\n",
       "    <tr>\n",
       "      <th>98</th>\n",
       "      <td>2023-04-09</td>\n",
       "      <td>Barra-Shopping</td>\n",
       "      <td>Y</td>\n",
       "      <td>91</td>\n",
       "      <td>0.293886</td>\n",
       "    </tr>\n",
       "    <tr>\n",
       "      <th>99</th>\n",
       "      <td>2023-04-10</td>\n",
       "      <td>Barra-Shopping</td>\n",
       "      <td>Y</td>\n",
       "      <td>56</td>\n",
       "      <td>0.000160</td>\n",
       "    </tr>\n",
       "  </tbody>\n",
       "</table>\n",
       "<p>100 rows × 5 columns</p>\n",
       "</div>"
      ],
      "text/plain": [
       "         Data            Loja Produto  Vendas  Desconto\n",
       "0  2023-01-01    Nova-America       Z      74  0.189964\n",
       "1  2023-01-02    Nova-America       X      87  0.259027\n",
       "2  2023-01-03  Barra-Shopping       X      62  0.279607\n",
       "3  2023-01-04    Nova-America       Y      14  0.299841\n",
       "4  2023-01-05  Norte-Shopping       X      10  0.163121\n",
       "..        ...             ...     ...     ...       ...\n",
       "95 2023-04-06  Barra-Shopping       Z      86  0.000047\n",
       "96 2023-04-07  Barra-Shopping       X      25  0.160528\n",
       "97 2023-04-08    Nova-America       Y      89  0.048460\n",
       "98 2023-04-09  Barra-Shopping       Y      91  0.293886\n",
       "99 2023-04-10  Barra-Shopping       Y      56  0.000160\n",
       "\n",
       "[100 rows x 5 columns]"
      ]
     },
     "execution_count": 1,
     "metadata": {},
     "output_type": "execute_result"
    }
   ],
   "source": [
    "import pandas as pd\n",
    "import numpy as np\n",
    "\n",
    "# Crie um DataFrame de exemplo com dados fictícios de vendas\n",
    "data = {\n",
    "    'Data': pd.date_range(start='2023-01-01', periods=100),\n",
    "    'Loja': np.random.choice(['Norte-Shopping', 'Nova-America', 'Barra-Shopping'], size=100),\n",
    "    'Produto': np.random.choice(['X', 'Y', 'Z'], size=100),\n",
    "    'Vendas': np.random.randint(1, 100, size=100),\n",
    "    'Desconto': np.random.uniform(0, 0.3, size=100)\n",
    "}\n",
    "\n",
    "df = pd.DataFrame(data)\n",
    "df"
   ]
  },
  {
   "cell_type": "markdown",
   "metadata": {},
   "source": [
    "**Como você calcularia a média das vendas mensais para cada loja?**"
   ]
  }
 ],
 "metadata": {
  "kernelspec": {
   "display_name": "Python 3",
   "language": "python",
   "name": "python3"
  },
  "language_info": {
   "codemirror_mode": {
    "name": "ipython",
    "version": 3
   },
   "file_extension": ".py",
   "mimetype": "text/x-python",
   "name": "python",
   "nbconvert_exporter": "python",
   "pygments_lexer": "ipython3",
   "version": "3.9.5"
  },
  "orig_nbformat": 4
 },
 "nbformat": 4,
 "nbformat_minor": 2
}
