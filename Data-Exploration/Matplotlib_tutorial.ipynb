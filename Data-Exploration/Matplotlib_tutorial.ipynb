{
 "cells": [
  {
   "cell_type": "code",
   "execution_count": 14,
   "metadata": {},
   "outputs": [
    {
     "data": {
      "text/html": [
       "<div>\n",
       "<style scoped>\n",
       "    .dataframe tbody tr th:only-of-type {\n",
       "        vertical-align: middle;\n",
       "    }\n",
       "\n",
       "    .dataframe tbody tr th {\n",
       "        vertical-align: top;\n",
       "    }\n",
       "\n",
       "    .dataframe thead th {\n",
       "        text-align: right;\n",
       "    }\n",
       "</style>\n",
       "<table border=\"1\" class=\"dataframe\">\n",
       "  <thead>\n",
       "    <tr style=\"text-align: right;\">\n",
       "      <th></th>\n",
       "      <th>Date</th>\n",
       "      <th>Prices</th>\n",
       "    </tr>\n",
       "  </thead>\n",
       "  <tbody>\n",
       "    <tr>\n",
       "      <th>0</th>\n",
       "      <td>2022-07-01</td>\n",
       "      <td>100</td>\n",
       "    </tr>\n",
       "    <tr>\n",
       "      <th>1</th>\n",
       "      <td>2022-01-02</td>\n",
       "      <td>105</td>\n",
       "    </tr>\n",
       "    <tr>\n",
       "      <th>2</th>\n",
       "      <td>2022-01-03</td>\n",
       "      <td>110</td>\n",
       "    </tr>\n",
       "  </tbody>\n",
       "</table>\n",
       "</div>"
      ],
      "text/plain": [
       "         Date  Prices\n",
       "0  2022-07-01     100\n",
       "1  2022-01-02     105\n",
       "2  2022-01-03     110"
      ]
     },
     "execution_count": 14,
     "metadata": {},
     "output_type": "execute_result"
    }
   ],
   "source": [
    "import pandas as pd\n",
    "\n",
    "# Criar um DataFrame de exemplo\n",
    "data = {\n",
    "    'Date': ['2022-07-01', '2022-01-02', '2022-01-03'],\n",
    "    'Prices': [100, 105, 110]\n",
    "}\n",
    "df = pd.DataFrame(data)\n",
    "df\n",
    "\n"
   ]
  },
  {
   "cell_type": "code",
   "execution_count": 15,
   "metadata": {},
   "outputs": [
    {
     "data": {
      "text/html": [
       "<div>\n",
       "<style scoped>\n",
       "    .dataframe tbody tr th:only-of-type {\n",
       "        vertical-align: middle;\n",
       "    }\n",
       "\n",
       "    .dataframe tbody tr th {\n",
       "        vertical-align: top;\n",
       "    }\n",
       "\n",
       "    .dataframe thead th {\n",
       "        text-align: right;\n",
       "    }\n",
       "</style>\n",
       "<table border=\"1\" class=\"dataframe\">\n",
       "  <thead>\n",
       "    <tr style=\"text-align: right;\">\n",
       "      <th></th>\n",
       "      <th>Date</th>\n",
       "      <th>Prices</th>\n",
       "    </tr>\n",
       "  </thead>\n",
       "  <tbody>\n",
       "    <tr>\n",
       "      <th>0</th>\n",
       "      <td>2022-07-01</td>\n",
       "      <td>100</td>\n",
       "    </tr>\n",
       "    <tr>\n",
       "      <th>1</th>\n",
       "      <td>2022-01-02</td>\n",
       "      <td>105</td>\n",
       "    </tr>\n",
       "    <tr>\n",
       "      <th>2</th>\n",
       "      <td>2022-01-03</td>\n",
       "      <td>110</td>\n",
       "    </tr>\n",
       "  </tbody>\n",
       "</table>\n",
       "</div>"
      ],
      "text/plain": [
       "        Date  Prices\n",
       "0 2022-07-01     100\n",
       "1 2022-01-02     105\n",
       "2 2022-01-03     110"
      ]
     },
     "execution_count": 15,
     "metadata": {},
     "output_type": "execute_result"
    }
   ],
   "source": [
    "df['Date'] = pd.to_datetime(df['Date'])\n",
    "\n",
    "# Resetar os índices e remover a coluna extra\n",
    "df_reset = df.reset_index(drop=True)\n",
    "\n",
    "df_reset"
   ]
  },
  {
   "cell_type": "markdown",
   "metadata": {},
   "source": [
    "**Exemplo 3**"
   ]
  },
  {
   "cell_type": "code",
   "execution_count": 24,
   "metadata": {},
   "outputs": [
    {
     "data": {
      "image/png": "[encoded data removed]",
      "text/plain": [
       "<Figure size 432x288 with 1 Axes>"
      ]
     },
     "metadata": {
      "needs_background": "light"
     },
     "output_type": "display_data"
    }
   ],
   "source": [
    "import pandas as pd\n",
    "import matplotlib.pyplot as plt\n",
    "\n",
    "# Criar um DataFrame de exemplo\n",
    "data = {\n",
    "    'Date': ['2022-01-01', '2022-01-02', '2022-01-03'],\n",
    "    'Prices': [100, 105, 110]\n",
    "}\n",
    "df = pd.DataFrame(data)\n",
    "df['Date'] = pd.to_datetime(df['Date'])\n",
    "\n",
    "# Definir a coluna 'Date' como índice\n",
    "df.set_index('Date', inplace=True)\n",
    "df\n",
    "\n",
    "# Criar um gráfico de linha\n",
    "plt.plot(df['Prices'])\n",
    "plt.xlabel('Date')\n",
    "plt.ylabel('Prices')\n",
    "plt.title('Price Trend')\n",
    "plt.show()\n"
   ]
  },
  {
   "cell_type": "code",
   "execution_count": 1,
   "metadata": {},
   "outputs": [
    {
     "data": {
      "image/png": "[encoded data removed]",
      "text/plain": [
       "<Figure size 432x288 with 1 Axes>"
      ]
     },
     "metadata": {
      "needs_background": "light"
     },
     "output_type": "display_data"
    }
   ],
   "source": [
    "fruit_names = ['Coffee', 'Salted Caramel', 'Pistachio']\n",
    "fruit_counts = [4000, 2000, 7000]\n",
    "# importing library\n",
    "import matplotlib.pyplot as plt\n",
    "\n",
    "# function to add value labels\n",
    "def addlabels(x,y):\n",
    "\tfor i in range(len(x)):\n",
    "\t\tplt.text(i,y[i],y[i])\n",
    "\t\t\n",
    "\n",
    "if __name__ == '__main__':\n",
    "\t# creating data on which bar chart will be plot\n",
    "\tx = [\"Engineering\", \"Hotel Management\", \"MBA\",\n",
    "\t\t\"Mass Communication\", \"BBA\", \"BSc\", \"MSc\"]\n",
    "\ty = [9330, 4050, 3030, 5500,\n",
    "\t\t8040, 4560, 6650]\n",
    "\t\n",
    "\t# making the bar chart on the data\n",
    "\tplt.bar(x, y)\n",
    "\t\n",
    "\t# calling the function to add value labels\n",
    "\taddlabels(x, y)\n",
    "\t\n",
    "\t# giving title to the plot\n",
    "\tplt.title(\"College Admission\")\n",
    "\t\n",
    "\t# giving X and Y labels\n",
    "\tplt.xlabel(\"Courses\")\n",
    "\tplt.ylabel(\"Number of Admissions\")\n",
    "\t\n",
    "\t# visualizing the plot\n",
    "\tplt.show()\n"
   ]
  }
 ],
 "metadata": {
  "kernelspec": {
   "display_name": "Python 3",
   "language": "python",
   "name": "python3"
  },
  "language_info": {
   "codemirror_mode": {
    "name": "ipython",
    "version": 3
   },
   "file_extension": ".py",
   "mimetype": "text/x-python",
   "name": "python",
   "nbconvert_exporter": "python",
   "pygments_lexer": "ipython3",
   "version": "3.9.5"
  },
  "orig_nbformat": 4
 },
 "nbformat": 4,
 "nbformat_minor": 2
}
