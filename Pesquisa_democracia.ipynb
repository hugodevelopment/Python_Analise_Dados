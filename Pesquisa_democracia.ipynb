{
 "cells": [
  {
   "cell_type": "code",
   "execution_count": 9,
   "metadata": {},
   "outputs": [],
   "source": [
    "import pandas as pd\n",
    "import matplotlib.pyplot as plt\n"
   ]
  },
  {
   "cell_type": "code",
   "execution_count": 10,
   "metadata": {},
   "outputs": [
    {
     "data": {
      "text/html": [
       "<div>\n",
       "<style scoped>\n",
       "    .dataframe tbody tr th:only-of-type {\n",
       "        vertical-align: middle;\n",
       "    }\n",
       "\n",
       "    .dataframe tbody tr th {\n",
       "        vertical-align: top;\n",
       "    }\n",
       "\n",
       "    .dataframe thead th {\n",
       "        text-align: right;\n",
       "    }\n",
       "</style>\n",
       "<table border=\"1\" class=\"dataframe\">\n",
       "  <thead>\n",
       "    <tr style=\"text-align: right;\">\n",
       "      <th></th>\n",
       "      <th>Posicionamento Político</th>\n",
       "      <th>2023</th>\n",
       "    </tr>\n",
       "  </thead>\n",
       "  <tbody>\n",
       "    <tr>\n",
       "      <th>0</th>\n",
       "      <td>1</td>\n",
       "      <td>11</td>\n",
       "    </tr>\n",
       "    <tr>\n",
       "      <th>1</th>\n",
       "      <td>2</td>\n",
       "      <td>2</td>\n",
       "    </tr>\n",
       "    <tr>\n",
       "      <th>2</th>\n",
       "      <td>3</td>\n",
       "      <td>4</td>\n",
       "    </tr>\n",
       "    <tr>\n",
       "      <th>3</th>\n",
       "      <td>4</td>\n",
       "      <td>4</td>\n",
       "    </tr>\n",
       "    <tr>\n",
       "      <th>4</th>\n",
       "      <td>5</td>\n",
       "      <td>16</td>\n",
       "    </tr>\n",
       "    <tr>\n",
       "      <th>5</th>\n",
       "      <td>6</td>\n",
       "      <td>7</td>\n",
       "    </tr>\n",
       "    <tr>\n",
       "      <th>6</th>\n",
       "      <td>7</td>\n",
       "      <td>5</td>\n",
       "    </tr>\n",
       "    <tr>\n",
       "      <th>7</th>\n",
       "      <td>8</td>\n",
       "      <td>8</td>\n",
       "    </tr>\n",
       "    <tr>\n",
       "      <th>8</th>\n",
       "      <td>9</td>\n",
       "      <td>3</td>\n",
       "    </tr>\n",
       "    <tr>\n",
       "      <th>9</th>\n",
       "      <td>10</td>\n",
       "      <td>22</td>\n",
       "    </tr>\n",
       "    <tr>\n",
       "      <th>10</th>\n",
       "      <td>N/S</td>\n",
       "      <td>12</td>\n",
       "    </tr>\n",
       "    <tr>\n",
       "      <th>11</th>\n",
       "      <td>N/R</td>\n",
       "      <td>5</td>\n",
       "    </tr>\n",
       "  </tbody>\n",
       "</table>\n",
       "</div>"
      ],
      "text/plain": [
       "   Posicionamento Político  2023\n",
       "0                        1    11\n",
       "1                        2     2\n",
       "2                        3     4\n",
       "3                        4     4\n",
       "4                        5    16\n",
       "5                        6     7\n",
       "6                        7     5\n",
       "7                        8     8\n",
       "8                        9     3\n",
       "9                       10    22\n",
       "10                     N/S    12\n",
       "11                     N/R     5"
      ]
     },
     "execution_count": 10,
     "metadata": {},
     "output_type": "execute_result"
    }
   ],
   "source": [
    "data = {\n",
    "    'Posicionamento Político': [1, 2, 3, 4, 5, 6, 7, 8, 9, 10, 'N/S', 'N/R'],\n",
    "    '2023': [11, 2, 4, 4, 16, 7, 5, 8, 3, 22, 12, 5]\n",
    "}\n",
    "\n",
    "df = pd.DataFrame(data)\n",
    "df\n"
   ]
  },
  {
   "cell_type": "markdown",
   "metadata": {},
   "source": [
    "**O erro \"unsupported operand type(s) for -: 'str' and 'float'\" ocorre porque estamos tentando criar um gráfico de barras com valores numéricos (inteiros ou floats) em um eixo, mas as categorias no eixo x são strings (por exemplo, \"1\", \"2\", \"N/S\", etc.). O Matplotlib está tentando realizar operações matemáticas com essas strings, o que não é suportado.**"
   ]
  },
  {
   "cell_type": "code",
   "execution_count": 11,
   "metadata": {},
   "outputs": [
    {
     "ename": "TypeError",
     "evalue": "the dtypes of parameters x (object) and width (float64) are incompatible",
     "output_type": "error",
     "traceback": [
      "\u001b[1;31m---------------------------------------------------------------------------\u001b[0m",
      "\u001b[1;31mTypeError\u001b[0m                                 Traceback (most recent call last)",
      "File \u001b[1;32mc:\\Python39\\lib\\site-packages\\matplotlib\\axes\\_axes.py:2432\u001b[0m, in \u001b[0;36mAxes.bar\u001b[1;34m(self, x, height, width, bottom, align, **kwargs)\u001b[0m\n\u001b[0;32m   2431\u001b[0m \u001b[39mtry\u001b[39;00m:\n\u001b[1;32m-> 2432\u001b[0m     left \u001b[39m=\u001b[39m x \u001b[39m-\u001b[39;49m width \u001b[39m/\u001b[39;49m \u001b[39m2\u001b[39;49m\n\u001b[0;32m   2433\u001b[0m \u001b[39mexcept\u001b[39;00m \u001b[39mTypeError\u001b[39;00m \u001b[39mas\u001b[39;00m e:\n",
      "\u001b[1;31mTypeError\u001b[0m: unsupported operand type(s) for -: 'str' and 'float'",
      "\nThe above exception was the direct cause of the following exception:\n",
      "\u001b[1;31mTypeError\u001b[0m                                 Traceback (most recent call last)",
      "\u001b[1;32mc:\\Users\\T-Gamer\\Documents\\Desenvolvimento 2022\\Python_Dados\\Pesquisa_democracia.ipynb Cell 4\u001b[0m line \u001b[0;36m<cell line: 3>\u001b[1;34m()\u001b[0m\n\u001b[0;32m      <a href='vscode-notebook-cell:/c%3A/Users/T-Gamer/Documents/Desenvolvimento%202022/Python_Dados/Pesquisa_democracia.ipynb#W3sZmlsZQ%3D%3D?line=0'>1</a>\u001b[0m plt\u001b[39m.\u001b[39mfigure(figsize\u001b[39m=\u001b[39m(\u001b[39m8\u001b[39m, \u001b[39m6\u001b[39m))\n\u001b[0;32m      <a href='vscode-notebook-cell:/c%3A/Users/T-Gamer/Documents/Desenvolvimento%202022/Python_Dados/Pesquisa_democracia.ipynb#W3sZmlsZQ%3D%3D?line=1'>2</a>\u001b[0m colors \u001b[39m=\u001b[39m [\u001b[39m'\u001b[39m\u001b[39m#FF6F61\u001b[39m\u001b[39m'\u001b[39m, \u001b[39m'\u001b[39m\u001b[39m#FFD700\u001b[39m\u001b[39m'\u001b[39m, \u001b[39m'\u001b[39m\u001b[39m#FF7F50\u001b[39m\u001b[39m'\u001b[39m, \u001b[39m'\u001b[39m\u001b[39m#FFA07A\u001b[39m\u001b[39m'\u001b[39m, \u001b[39m'\u001b[39m\u001b[39m#90EE90\u001b[39m\u001b[39m'\u001b[39m, \u001b[39m'\u001b[39m\u001b[39m#ADFF2F\u001b[39m\u001b[39m'\u001b[39m, \u001b[39m'\u001b[39m\u001b[39m#00CED1\u001b[39m\u001b[39m'\u001b[39m, \u001b[39m'\u001b[39m\u001b[39m#4682B4\u001b[39m\u001b[39m'\u001b[39m, \u001b[39m'\u001b[39m\u001b[39m#7B68EE\u001b[39m\u001b[39m'\u001b[39m, \u001b[39m'\u001b[39m\u001b[39m#8B4513\u001b[39m\u001b[39m'\u001b[39m]\n\u001b[1;32m----> <a href='vscode-notebook-cell:/c%3A/Users/T-Gamer/Documents/Desenvolvimento%202022/Python_Dados/Pesquisa_democracia.ipynb#W3sZmlsZQ%3D%3D?line=2'>3</a>\u001b[0m plt\u001b[39m.\u001b[39;49mbar(df[\u001b[39m'\u001b[39;49m\u001b[39mPosicionamento Político\u001b[39;49m\u001b[39m'\u001b[39;49m], df[\u001b[39m'\u001b[39;49m\u001b[39m2023\u001b[39;49m\u001b[39m'\u001b[39;49m], color\u001b[39m=\u001b[39;49mcolors)\n\u001b[0;32m      <a href='vscode-notebook-cell:/c%3A/Users/T-Gamer/Documents/Desenvolvimento%202022/Python_Dados/Pesquisa_democracia.ipynb#W3sZmlsZQ%3D%3D?line=3'>4</a>\u001b[0m plt\u001b[39m.\u001b[39mxlabel(\u001b[39m'\u001b[39m\u001b[39mPosicionamento Político\u001b[39m\u001b[39m'\u001b[39m)\n\u001b[0;32m      <a href='vscode-notebook-cell:/c%3A/Users/T-Gamer/Documents/Desenvolvimento%202022/Python_Dados/Pesquisa_democracia.ipynb#W3sZmlsZQ%3D%3D?line=4'>5</a>\u001b[0m plt\u001b[39m.\u001b[39mylabel(\u001b[39m'\u001b[39m\u001b[39mQuantidade\u001b[39m\u001b[39m'\u001b[39m)\n",
      "File \u001b[1;32mc:\\Python39\\lib\\site-packages\\matplotlib\\pyplot.py:2367\u001b[0m, in \u001b[0;36mbar\u001b[1;34m(x, height, width, bottom, align, data, **kwargs)\u001b[0m\n\u001b[0;32m   2363\u001b[0m \u001b[39m@_copy_docstring_and_deprecators\u001b[39m(Axes\u001b[39m.\u001b[39mbar)\n\u001b[0;32m   2364\u001b[0m \u001b[39mdef\u001b[39;00m \u001b[39mbar\u001b[39m(\n\u001b[0;32m   2365\u001b[0m         x, height, width\u001b[39m=\u001b[39m\u001b[39m0.8\u001b[39m, bottom\u001b[39m=\u001b[39m\u001b[39mNone\u001b[39;00m, \u001b[39m*\u001b[39m, align\u001b[39m=\u001b[39m\u001b[39m'\u001b[39m\u001b[39mcenter\u001b[39m\u001b[39m'\u001b[39m,\n\u001b[0;32m   2366\u001b[0m         data\u001b[39m=\u001b[39m\u001b[39mNone\u001b[39;00m, \u001b[39m*\u001b[39m\u001b[39m*\u001b[39mkwargs):\n\u001b[1;32m-> 2367\u001b[0m     \u001b[39mreturn\u001b[39;00m gca()\u001b[39m.\u001b[39mbar(\n\u001b[0;32m   2368\u001b[0m         x, height, width\u001b[39m=\u001b[39mwidth, bottom\u001b[39m=\u001b[39mbottom, align\u001b[39m=\u001b[39malign,\n\u001b[0;32m   2369\u001b[0m         \u001b[39m*\u001b[39m\u001b[39m*\u001b[39m({\u001b[39m\"\u001b[39m\u001b[39mdata\u001b[39m\u001b[39m\"\u001b[39m: data} \u001b[39mif\u001b[39;00m data \u001b[39mis\u001b[39;00m \u001b[39mnot\u001b[39;00m \u001b[39mNone\u001b[39;00m \u001b[39melse\u001b[39;00m {}), \u001b[39m*\u001b[39m\u001b[39m*\u001b[39mkwargs)\n",
      "File \u001b[1;32mc:\\Python39\\lib\\site-packages\\matplotlib\\__init__.py:1423\u001b[0m, in \u001b[0;36m_preprocess_data.<locals>.inner\u001b[1;34m(ax, data, *args, **kwargs)\u001b[0m\n\u001b[0;32m   1420\u001b[0m \u001b[39m@functools\u001b[39m\u001b[39m.\u001b[39mwraps(func)\n\u001b[0;32m   1421\u001b[0m \u001b[39mdef\u001b[39;00m \u001b[39minner\u001b[39m(ax, \u001b[39m*\u001b[39margs, data\u001b[39m=\u001b[39m\u001b[39mNone\u001b[39;00m, \u001b[39m*\u001b[39m\u001b[39m*\u001b[39mkwargs):\n\u001b[0;32m   1422\u001b[0m     \u001b[39mif\u001b[39;00m data \u001b[39mis\u001b[39;00m \u001b[39mNone\u001b[39;00m:\n\u001b[1;32m-> 1423\u001b[0m         \u001b[39mreturn\u001b[39;00m func(ax, \u001b[39m*\u001b[39m\u001b[39mmap\u001b[39m(sanitize_sequence, args), \u001b[39m*\u001b[39m\u001b[39m*\u001b[39mkwargs)\n\u001b[0;32m   1425\u001b[0m     bound \u001b[39m=\u001b[39m new_sig\u001b[39m.\u001b[39mbind(ax, \u001b[39m*\u001b[39margs, \u001b[39m*\u001b[39m\u001b[39m*\u001b[39mkwargs)\n\u001b[0;32m   1426\u001b[0m     auto_label \u001b[39m=\u001b[39m (bound\u001b[39m.\u001b[39marguments\u001b[39m.\u001b[39mget(label_namer)\n\u001b[0;32m   1427\u001b[0m                   \u001b[39mor\u001b[39;00m bound\u001b[39m.\u001b[39mkwargs\u001b[39m.\u001b[39mget(label_namer))\n",
      "File \u001b[1;32mc:\\Python39\\lib\\site-packages\\matplotlib\\axes\\_axes.py:2434\u001b[0m, in \u001b[0;36mAxes.bar\u001b[1;34m(self, x, height, width, bottom, align, **kwargs)\u001b[0m\n\u001b[0;32m   2432\u001b[0m         left \u001b[39m=\u001b[39m x \u001b[39m-\u001b[39m width \u001b[39m/\u001b[39m \u001b[39m2\u001b[39m\n\u001b[0;32m   2433\u001b[0m     \u001b[39mexcept\u001b[39;00m \u001b[39mTypeError\u001b[39;00m \u001b[39mas\u001b[39;00m e:\n\u001b[1;32m-> 2434\u001b[0m         \u001b[39mraise\u001b[39;00m \u001b[39mTypeError\u001b[39;00m(\u001b[39mf\u001b[39m\u001b[39m'\u001b[39m\u001b[39mthe dtypes of parameters x (\u001b[39m\u001b[39m{\u001b[39;00mx\u001b[39m.\u001b[39mdtype\u001b[39m}\u001b[39;00m\u001b[39m) \u001b[39m\u001b[39m'\u001b[39m\n\u001b[0;32m   2435\u001b[0m                         \u001b[39mf\u001b[39m\u001b[39m'\u001b[39m\u001b[39mand width (\u001b[39m\u001b[39m{\u001b[39;00mwidth\u001b[39m.\u001b[39mdtype\u001b[39m}\u001b[39;00m\u001b[39m) \u001b[39m\u001b[39m'\u001b[39m\n\u001b[0;32m   2436\u001b[0m                         \u001b[39mf\u001b[39m\u001b[39m'\u001b[39m\u001b[39mare incompatible\u001b[39m\u001b[39m'\u001b[39m) \u001b[39mfrom\u001b[39;00m \u001b[39me\u001b[39;00m\n\u001b[0;32m   2437\u001b[0m     bottom \u001b[39m=\u001b[39m y\n\u001b[0;32m   2438\u001b[0m \u001b[39melse\u001b[39;00m:  \u001b[39m# horizontal\u001b[39;00m\n",
      "\u001b[1;31mTypeError\u001b[0m: the dtypes of parameters x (object) and width (float64) are incompatible"
     ]
    },
    {
     "data": {
      "image/png": "[encoded data removed]",
      "text/plain": [
       "<Figure size 576x432 with 1 Axes>"
      ]
     },
     "metadata": {
      "needs_background": "light"
     },
     "output_type": "display_data"
    }
   ],
   "source": [
    "plt.figure(figsize=(8, 6))\n",
    "colors = ['#FF6F61', '#FFD700', '#FF7F50', '#FFA07A', '#90EE90', '#ADFF2F', '#00CED1', '#4682B4', '#7B68EE', '#8B4513']\n",
    "plt.bar(df['Posicionamento Político'], df['2023'], color=colors)\n",
    "plt.xlabel('Posicionamento Político')\n",
    "plt.ylabel('Quantidade')\n",
    "plt.title('Distribuição de Posicionamento Político em 2023')\n",
    "plt.xticks(rotation=45)\n",
    "plt.show()\n"
   ]
  },
  {
   "cell_type": "code",
   "execution_count": 29,
   "metadata": {},
   "outputs": [
    {
     "data": {
      "image/png": "[encoded data removed]",
      "text/plain": [
       "<Figure size 576x432 with 1 Axes>"
      ]
     },
     "metadata": {
      "needs_background": "light"
     },
     "output_type": "display_data"
    }
   ],
   "source": [
    "import pandas as pd\n",
    "import matplotlib.pyplot as plt\n",
    "\n",
    "# Dados\n",
    "data = {\n",
    "    'Posicionamento Político': [1, 2, 3, 4, 5, 6, 7, 8, 9, 10, 'N/S', 'N/R'],\n",
    "    '2023': [11, 2, 4, 4, 16, 7, 5, 8, 3, 22, 12, 5]\n",
    "}\n",
    "\n",
    "# Converter para DataFrame\n",
    "df = pd.DataFrame(data)\n",
    "\n",
    "# Mapear categorias para números (1 a 10)\n",
    "categoria_map = {\n",
    "    1: 'Esquerda',\n",
    "    2: 'Esquerda',\n",
    "    3: 'Esquerda',\n",
    "    4: 'Centro-Esquerda',\n",
    "    5: 'Centro',\n",
    "    6: 'Centro',\n",
    "    7: 'Centro-Direita',\n",
    "    8: 'Direita',\n",
    "    9: 'Direita',\n",
    "    10: 'Direita',\n",
    "    'N/S': 'N/S',\n",
    "    'N/R': 'N/R'\n",
    "}\n",
    "\n",
    "# Com o map o valores de 1 a 10 serão atribuidos para esquerda, centro-esquerda, centro-direita \n",
    "df['Posicionamento Político'] = df['Posicionamento Político'].map(categoria_map)\n",
    "\n",
    "# Criar gráfico de barras\n",
    "plt.figure(figsize=(8, 6))\n",
    "colors = {\n",
    "    'Esquerda': '#DB7093',\n",
    "    'Centro': '#D8BFD8',\n",
    "    'Direita': '#663399',\n",
    "    'Centro-Esquerda': '#DDA0DD',\n",
    "    'Centro-Direita': '#7B68EE',\n",
    "    'N/S': '#D3D3D3',\n",
    "    'N/R': '#D3D3D3'\n",
    "}\n",
    "plt.bar(df['Posicionamento Político'], df['2023'], color=[colors[c] for c in df['Posicionamento Político']])\n",
    "plt.xlabel('Posicionamento Político')\n",
    "plt.ylabel('Quantidade')\n",
    "plt.title('Distribuição de Posicionamento Político em 2023')\n",
    "plt.xticks(rotation=45)\n",
    "plt.show()\n"
   ]
  },
  {
   "cell_type": "code",
   "execution_count": 22,
   "metadata": {},
   "outputs": [
    {
     "data": {
      "image/png": "[encoded data removed]",
      "text/plain": [
       "<Figure size 432x216 with 1 Axes>"
      ]
     },
     "metadata": {},
     "output_type": "display_data"
    }
   ],
   "source": [
    "import matplotlib.pyplot as plt\n",
    "import numpy as np\n",
    "\n",
    "# fig, ax = plt.subplots(figsize=(6, 3), subplot_kw=dict(aspect=\"equal\"))\n",
    "fig, ax = plt.subplots(figsize=(6, 3), subplot_kw=dict(aspect=\"equal\"))\n",
    "\n",
    "# Dados\n",
    "categorias = ['Direita', 'Esquerda', 'Centro']\n",
    "porcentagens = [0.22, 0.11, 0.05]  # Calculando a porcentagem de 'Outras'\n",
    "\n",
    "# Calculando o número de entrevistados para cada categoria\n",
    "total_entrevistados = 2258\n",
    "num_entrevistados = [round(total_entrevistados * valores) for valores in porcentagens]\n",
    "\n",
    "def func(pct, allvals):\n",
    "    absolute = int(pct/100.*np.sum(allvals))\n",
    "    return \"{:.1f}%\\n({:d} g)\".format(pct, absolute)\n",
    "\n",
    "\n",
    "wedges, texts, autotexts = ax.pie(porcentagens, autopct=lambda pct: func(pct, porcentagens),\n",
    "                                  textprops=dict(color=\"w\"))\n",
    "\n",
    "ax.legend(wedges, categorias,\n",
    "          title=\"Espectro Politico\",\n",
    "          loc=\"center left\",\n",
    "          bbox_to_anchor=(1, 0, 0.5, 1))\n",
    "\n",
    "# Criando o gráfico de pizza\n",
    "colors = ['#7B68EE', '#FF6F61', '#D8BFD8']\n",
    "plt.pie(num_entrevistados, labels=categorias, colors=colors, autopct='%1.1f%%', startangle=140)\n",
    "plt.axis('equal')  # Faz com que o gráfico de pizza seja circular\n",
    "plt.title('Distribuição de Posicionamento Político')\n",
    "plt.show()\n"
   ]
  }
 ],
 "metadata": {
  "kernelspec": {
   "display_name": "Python 3",
   "language": "python",
   "name": "python3"
  },
  "language_info": {
   "codemirror_mode": {
    "name": "ipython",
    "version": 3
   },
   "file_extension": ".py",
   "mimetype": "text/x-python",
   "name": "python",
   "nbconvert_exporter": "python",
   "pygments_lexer": "ipython3",
   "version": "3.9.5"
  },
  "orig_nbformat": 4
 },
 "nbformat": 4,
 "nbformat_minor": 2
}
