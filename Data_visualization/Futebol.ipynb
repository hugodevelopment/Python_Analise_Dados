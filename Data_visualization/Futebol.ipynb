{
 "cells": [
  {
   "cell_type": "code",
   "execution_count": 10,
   "metadata": {},
   "outputs": [
    {
     "data": {
      "text/html": [
       "<div>\n",
       "<style scoped>\n",
       "    .dataframe tbody tr th:only-of-type {\n",
       "        vertical-align: middle;\n",
       "    }\n",
       "\n",
       "    .dataframe tbody tr th {\n",
       "        vertical-align: top;\n",
       "    }\n",
       "\n",
       "    .dataframe thead th {\n",
       "        text-align: right;\n",
       "    }\n",
       "</style>\n",
       "<table border=\"1\" class=\"dataframe\">\n",
       "  <thead>\n",
       "    <tr style=\"text-align: right;\">\n",
       "      <th></th>\n",
       "      <th>Equipe</th>\n",
       "      <th>Jogos</th>\n",
       "      <th>V</th>\n",
       "      <th>E</th>\n",
       "      <th>D</th>\n",
       "      <th>GP</th>\n",
       "      <th>GC</th>\n",
       "      <th>Desempenho</th>\n",
       "    </tr>\n",
       "  </thead>\n",
       "  <tbody>\n",
       "    <tr>\n",
       "      <th>0</th>\n",
       "      <td>Time A</td>\n",
       "      <td>30</td>\n",
       "      <td>15</td>\n",
       "      <td>10</td>\n",
       "      <td>5</td>\n",
       "      <td>50</td>\n",
       "      <td>30</td>\n",
       "      <td>20</td>\n",
       "    </tr>\n",
       "    <tr>\n",
       "      <th>1</th>\n",
       "      <td>Time B</td>\n",
       "      <td>30</td>\n",
       "      <td>14</td>\n",
       "      <td>10</td>\n",
       "      <td>6</td>\n",
       "      <td>45</td>\n",
       "      <td>35</td>\n",
       "      <td>10</td>\n",
       "    </tr>\n",
       "    <tr>\n",
       "      <th>2</th>\n",
       "      <td>Time C</td>\n",
       "      <td>30</td>\n",
       "      <td>13</td>\n",
       "      <td>10</td>\n",
       "      <td>7</td>\n",
       "      <td>40</td>\n",
       "      <td>40</td>\n",
       "      <td>0</td>\n",
       "    </tr>\n",
       "    <tr>\n",
       "      <th>3</th>\n",
       "      <td>Time D</td>\n",
       "      <td>30</td>\n",
       "      <td>12</td>\n",
       "      <td>10</td>\n",
       "      <td>8</td>\n",
       "      <td>35</td>\n",
       "      <td>45</td>\n",
       "      <td>-10</td>\n",
       "    </tr>\n",
       "    <tr>\n",
       "      <th>4</th>\n",
       "      <td>Time E</td>\n",
       "      <td>30</td>\n",
       "      <td>11</td>\n",
       "      <td>10</td>\n",
       "      <td>9</td>\n",
       "      <td>30</td>\n",
       "      <td>50</td>\n",
       "      <td>-20</td>\n",
       "    </tr>\n",
       "  </tbody>\n",
       "</table>\n",
       "</div>"
      ],
      "text/plain": [
       "   Equipe  Jogos   V   E  D  GP  GC  Desempenho\n",
       "0  Time A     30  15  10  5  50  30          20\n",
       "1  Time B     30  14  10  6  45  35          10\n",
       "2  Time C     30  13  10  7  40  40           0\n",
       "3  Time D     30  12  10  8  35  45         -10\n",
       "4  Time E     30  11  10  9  30  50         -20"
      ]
     },
     "execution_count": 10,
     "metadata": {},
     "output_type": "execute_result"
    }
   ],
   "source": [
    "import pandas as pd\n",
    "import matplotlib.pyplot as plt\n",
    "\n",
    "# Suponha que 'df' é seu DataFrame que contém os dados do campeonato\n",
    "# Criando um dicionário com dados do campeonato\n",
    "df = {\n",
    "    'Equipe': ['Time A', 'Time B', 'Time C', 'Time D', 'Time E'],\n",
    "    'Jogos': [30, 30, 30, 30, 30],\n",
    "    'V': [15, 14, 13, 12, 11],\n",
    "    'E': [10, 10, 10, 10, 10],\n",
    "    'D': [5, 6, 7, 8, 9],\n",
    "    'GP': [50, 45, 40, 35, 30],\n",
    "    'GC': [30, 35, 40, 45, 50],\n",
    "}\n",
    "\n",
    "# Criando um DataFrame a partir do dicionário\n",
    "df = pd.DataFrame(df)\n",
    "\n",
    "# Primeiro, vamos criar uma nova coluna 'Desempenho' que é a diferença entre gols pró e gols contra\n",
    "df['Desempenho'] = df['GP'] - df['GC']\n",
    "df\n",
    "\n"
   ]
  },
  {
   "cell_type": "code",
   "execution_count": 9,
   "metadata": {},
   "outputs": [
    {
     "data": {
      "image/png": "[encoded data removed]",
      "text/plain": [
       "<Figure size 720x432 with 1 Axes>"
      ]
     },
     "metadata": {
      "needs_background": "light"
     },
     "output_type": "display_data"
    }
   ],
   "source": [
    "# Agora, vamos plotar um gráfico de dispersão entre 'GC' (Gols Contra) e 'Desempenho'\n",
    "plt.figure(figsize=(10, 6))\n",
    "plt.scatter(df['GC'], df['Desempenho'])\n",
    "plt.xlabel('Gols Contra')\n",
    "plt.ylabel('Desempenho')\n",
    "plt.title('Relação entre Gols Contra e Desempenho')\n",
    "plt.show()\n"
   ]
  },
  {
   "cell_type": "markdown",
   "metadata": {},
   "source": [
    "**Testando uma estrutura de dados diferentes que são bastante utilizadas em json**"
   ]
  },
  {
   "cell_type": "code",
   "execution_count": 10,
   "metadata": {},
   "outputs": [
    {
     "data": {
      "text/plain": [
       "[{'X': 0.1,\n",
       "  'Y': 0.2,\n",
       "  'minute': 10,\n",
       "  'h_team': 'Time1',\n",
       "  'xG': 0.05,\n",
       "  'player': 'Jogador1',\n",
       "  'result': 'gol'},\n",
       " {'X': 0.3,\n",
       "  'Y': 0.4,\n",
       "  'minute': 20,\n",
       "  'h_team': 'Time2',\n",
       "  'xG': 0.07,\n",
       "  'player': 'Jogador2',\n",
       "  'result': 'falta'},\n",
       " {'X': 0.5,\n",
       "  'Y': 0.6,\n",
       "  'minute': 30,\n",
       "  'h_team': 'Time3',\n",
       "  'xG': 0.08,\n",
       "  'player': 'Jogador3',\n",
       "  'result': 'pênalti'}]"
      ]
     },
     "execution_count": 10,
     "metadata": {},
     "output_type": "execute_result"
    }
   ],
   "source": [
    "import pandas as pd\n",
    "\n",
    "# neste caso h é uma coluna inteira onde cada linha é um dicionário com chaves e valores\n",
    "data = {\n",
    "    # coluna h que é uma lista de dicionários\n",
    "    'h': [\n",
    "        {'X': 0.1, 'Y': 0.2, 'minute': 10, 'h_team': 'Time1', 'xG': 0.05, 'player': 'Jogador1', 'result': 'gol'},\n",
    "        {'X': 0.3, 'Y': 0.4, 'minute': 20, 'h_team': 'Time2', 'xG': 0.07, 'player': 'Jogador2', 'result': 'falta'},\n",
    "        {'X': 0.5, 'Y': 0.6, 'minute': 30, 'h_team': 'Time3', 'xG': 0.08, 'player': 'Jogador3', 'result': 'pênalti'}\n",
    "    ]\n",
    "}\n",
    "\n",
    "data[\"h\"]\n"
   ]
  },
  {
   "cell_type": "code",
   "execution_count": 22,
   "metadata": {},
   "outputs": [
    {
     "data": {
      "text/plain": [
       "[[0.1, 0.3, 0.5],\n",
       " [0.2, 0.4, 0.6],\n",
       " [10, 20, 30],\n",
       " ['Time1', 'Time2', 'Time3'],\n",
       " [0.05, 0.07, 0.08],\n",
       " ['Jogador1', 'Jogador2', 'Jogador3'],\n",
       " ['gol', 'falta', 'pênalti']]"
      ]
     },
     "execution_count": 22,
     "metadata": {},
     "output_type": "execute_result"
    }
   ],
   "source": [
    "datah = data['h']\n",
    "x_under = []\n",
    "y_under = []\n",
    "min_under = []\n",
    "team_under = []\n",
    "xG_under = []\n",
    "player_under = []\n",
    "result_under = []\n",
    "names = ['x','y','minute','team','xG','player','result']\n",
    "\n",
    "for index in range(len(datah)):\n",
    "    for key in datah[index]:\n",
    "        if key == 'X':\n",
    "            x_under.append(datah[index][key])\n",
    "        if key == 'Y':\n",
    "            y_under.append(datah[index][key])\n",
    "        if key == 'minute':\n",
    "            min_under.append(datah[index][key])\n",
    "        if key == 'h_team':\n",
    "            team_under.append(datah[index][key])\n",
    "        if key == 'xG':\n",
    "            xG_under.append(datah[index][key])\n",
    "        if key == 'player':\n",
    "            player_under.append(datah[index][key])\n",
    "        if key == 'result':\n",
    "            result_under.append(datah[index][key])\n",
    "\n",
    "\n",
    "# novo dicionario criado agora com os valores após os loops\n",
    "data2 = [x_under,y_under,min_under,team_under,xG_under,player_under,result_under]\n",
    "data2"
   ]
  },
  {
   "cell_type": "code",
   "execution_count": 26,
   "metadata": {},
   "outputs": [
    {
     "data": {
      "text/html": [
       "<div>\n",
       "<style scoped>\n",
       "    .dataframe tbody tr th:only-of-type {\n",
       "        vertical-align: middle;\n",
       "    }\n",
       "\n",
       "    .dataframe tbody tr th {\n",
       "        vertical-align: top;\n",
       "    }\n",
       "\n",
       "    .dataframe thead th {\n",
       "        text-align: right;\n",
       "    }\n",
       "</style>\n",
       "<table border=\"1\" class=\"dataframe\">\n",
       "  <thead>\n",
       "    <tr style=\"text-align: right;\">\n",
       "      <th></th>\n",
       "      <th>0</th>\n",
       "      <th>1</th>\n",
       "      <th>2</th>\n",
       "    </tr>\n",
       "  </thead>\n",
       "  <tbody>\n",
       "    <tr>\n",
       "      <th>x</th>\n",
       "      <td>0.1</td>\n",
       "      <td>0.3</td>\n",
       "      <td>0.5</td>\n",
       "    </tr>\n",
       "    <tr>\n",
       "      <th>y</th>\n",
       "      <td>0.2</td>\n",
       "      <td>0.4</td>\n",
       "      <td>0.6</td>\n",
       "    </tr>\n",
       "    <tr>\n",
       "      <th>minute</th>\n",
       "      <td>10</td>\n",
       "      <td>20</td>\n",
       "      <td>30</td>\n",
       "    </tr>\n",
       "    <tr>\n",
       "      <th>team</th>\n",
       "      <td>Time1</td>\n",
       "      <td>Time2</td>\n",
       "      <td>Time3</td>\n",
       "    </tr>\n",
       "    <tr>\n",
       "      <th>xG</th>\n",
       "      <td>0.05</td>\n",
       "      <td>0.07</td>\n",
       "      <td>0.08</td>\n",
       "    </tr>\n",
       "    <tr>\n",
       "      <th>player</th>\n",
       "      <td>Jogador1</td>\n",
       "      <td>Jogador2</td>\n",
       "      <td>Jogador3</td>\n",
       "    </tr>\n",
       "    <tr>\n",
       "      <th>result</th>\n",
       "      <td>gol</td>\n",
       "      <td>falta</td>\n",
       "      <td>pênalti</td>\n",
       "    </tr>\n",
       "  </tbody>\n",
       "</table>\n",
       "</div>"
      ],
      "text/plain": [
       "               0         1         2\n",
       "x            0.1       0.3       0.5\n",
       "y            0.2       0.4       0.6\n",
       "minute        10        20        30\n",
       "team       Time1     Time2     Time3\n",
       "xG          0.05      0.07      0.08\n",
       "player  Jogador1  Jogador2  Jogador3\n",
       "result       gol     falta   pênalti"
      ]
     },
     "execution_count": 26,
     "metadata": {},
     "output_type": "execute_result"
    }
   ],
   "source": [
    "df2 = pd.DataFrame([x_under,y_under,min_under,team_under,xG_under,player_under,result_under], index=names)\n",
    "df2"
   ]
  },
  {
   "cell_type": "code",
   "execution_count": 31,
   "metadata": {},
   "outputs": [
    {
     "data": {
      "text/html": [
       "<div>\n",
       "<style scoped>\n",
       "    .dataframe tbody tr th:only-of-type {\n",
       "        vertical-align: middle;\n",
       "    }\n",
       "\n",
       "    .dataframe tbody tr th {\n",
       "        vertical-align: top;\n",
       "    }\n",
       "\n",
       "    .dataframe thead th {\n",
       "        text-align: right;\n",
       "    }\n",
       "</style>\n",
       "<table border=\"1\" class=\"dataframe\">\n",
       "  <thead>\n",
       "    <tr style=\"text-align: right;\">\n",
       "      <th></th>\n",
       "      <th>x</th>\n",
       "      <th>y</th>\n",
       "      <th>minute</th>\n",
       "      <th>team</th>\n",
       "      <th>xG</th>\n",
       "      <th>player</th>\n",
       "      <th>result</th>\n",
       "    </tr>\n",
       "  </thead>\n",
       "  <tbody>\n",
       "    <tr>\n",
       "      <th>0</th>\n",
       "      <td>0.1</td>\n",
       "      <td>0.2</td>\n",
       "      <td>10</td>\n",
       "      <td>Time1</td>\n",
       "      <td>0.05</td>\n",
       "      <td>Jogador1</td>\n",
       "      <td>gol</td>\n",
       "    </tr>\n",
       "    <tr>\n",
       "      <th>1</th>\n",
       "      <td>0.3</td>\n",
       "      <td>0.4</td>\n",
       "      <td>20</td>\n",
       "      <td>Time2</td>\n",
       "      <td>0.07</td>\n",
       "      <td>Jogador2</td>\n",
       "      <td>falta</td>\n",
       "    </tr>\n",
       "    <tr>\n",
       "      <th>2</th>\n",
       "      <td>0.5</td>\n",
       "      <td>0.6</td>\n",
       "      <td>30</td>\n",
       "      <td>Time3</td>\n",
       "      <td>0.08</td>\n",
       "      <td>Jogador3</td>\n",
       "      <td>pênalti</td>\n",
       "    </tr>\n",
       "  </tbody>\n",
       "</table>\n",
       "</div>"
      ],
      "text/plain": [
       "     x    y minute   team    xG    player   result\n",
       "0  0.1  0.2     10  Time1  0.05  Jogador1      gol\n",
       "1  0.3  0.4     20  Time2  0.07  Jogador2    falta\n",
       "2  0.5  0.6     30  Time3  0.08  Jogador3  pênalti"
      ]
     },
     "execution_count": 31,
     "metadata": {},
     "output_type": "execute_result"
    }
   ],
   "source": [
    "df = df2.T\n",
    "df"
   ]
  },
  {
   "cell_type": "code",
   "execution_count": 33,
   "metadata": {},
   "outputs": [
    {
     "data": {
      "text/html": [
       "<div>\n",
       "<style scoped>\n",
       "    .dataframe tbody tr th:only-of-type {\n",
       "        vertical-align: middle;\n",
       "    }\n",
       "\n",
       "    .dataframe tbody tr th {\n",
       "        vertical-align: top;\n",
       "    }\n",
       "\n",
       "    .dataframe thead th {\n",
       "        text-align: right;\n",
       "    }\n",
       "</style>\n",
       "<table border=\"1\" class=\"dataframe\">\n",
       "  <thead>\n",
       "    <tr style=\"text-align: right;\">\n",
       "      <th></th>\n",
       "      <th>x</th>\n",
       "    </tr>\n",
       "  </thead>\n",
       "  <tbody>\n",
       "    <tr>\n",
       "      <th>0</th>\n",
       "      <td>0.2</td>\n",
       "    </tr>\n",
       "    <tr>\n",
       "      <th>1</th>\n",
       "      <td>0.6</td>\n",
       "    </tr>\n",
       "    <tr>\n",
       "      <th>2</th>\n",
       "      <td>1.0</td>\n",
       "    </tr>\n",
       "  </tbody>\n",
       "</table>\n",
       "</div>"
      ],
      "text/plain": [
       "     x\n",
       "0  0.2\n",
       "1  0.6\n",
       "2  1.0"
      ]
     },
     "execution_count": 33,
     "metadata": {},
     "output_type": "execute_result"
    }
   ],
   "source": [
    "df[[\"x\"]]*2"
   ]
  }
 ],
 "metadata": {
  "kernelspec": {
   "display_name": "Python 3",
   "language": "python",
   "name": "python3"
  },
  "language_info": {
   "codemirror_mode": {
    "name": "ipython",
    "version": 3
   },
   "file_extension": ".py",
   "mimetype": "text/x-python",
   "name": "python",
   "nbconvert_exporter": "python",
   "pygments_lexer": "ipython3",
   "version": "3.9.5"
  }
 },
 "nbformat": 4,
 "nbformat_minor": 2
}
